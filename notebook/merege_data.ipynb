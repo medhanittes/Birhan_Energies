{
 "cells": [
  {
   "cell_type": "code",
   "execution_count": 15,
   "metadata": {},
   "outputs": [],
   "source": [
    "import pandas as pd"
   ]
  },
  {
   "cell_type": "code",
   "execution_count": 16,
   "metadata": {},
   "outputs": [],
   "source": [
    "# Load data \n",
    "data1 = pd.read_csv('D:/Week10/data/Copy of BrentOilPrices.csv')\n",
    "data2 = pd.read_csv('D:/Week10/data/Data_Africa.csv')\n",
    "data3 = pd.read_csv('D:/Week10/data/population_total_long.csv')"
   ]
  },
  {
   "cell_type": "code",
   "execution_count": 17,
   "metadata": {},
   "outputs": [
    {
     "name": "stdout",
     "output_type": "stream",
     "text": [
      "DataFrame 1:\n",
      "        Date  Price\n",
      "0  20-May-87  18.63\n",
      "1  21-May-87  18.45\n",
      "2  22-May-87  18.55\n",
      "3  25-May-87  18.60\n",
      "4  26-May-87  18.63\n",
      "\n",
      "DataFrame 2:\n",
      "   ID  Year Country    Continent  Population      GDP (USD)\n",
      "0   1  2000  Uganda  East Africa     23303189  6.193247e+09\n",
      "1   2  2001  Uganda  East Africa     24022603  5.840504e+09\n",
      "2   3  2002  Uganda  East Africa     24781316  5.840504e+09\n",
      "3   4  2003  Uganda  East Africa     25577246  6.606884e+09\n",
      "4   5  2004  Uganda  East Africa     26403221  7.939488e+09\n",
      "\n",
      "DataFrame 3:\n",
      "  Country Name  Year    Count\n",
      "0        Aruba  1960    54211\n",
      "1  Afghanistan  1960  8996973\n",
      "2       Angola  1960  5454933\n",
      "3      Albania  1960  1608800\n",
      "4      Andorra  1960    13411\n"
     ]
    }
   ],
   "source": [
    "# Displaying the first few rows of all three DataFrames\n",
    "print(\"DataFrame 1:\")\n",
    "print(data1.head())\n",
    "print(\"\\nDataFrame 2:\")\n",
    "print(data2.head())\n",
    "print(\"\\nDataFrame 3:\")\n",
    "print(data3.head())"
   ]
  },
  {
   "cell_type": "code",
   "execution_count": 18,
   "metadata": {},
   "outputs": [
    {
     "name": "stdout",
     "output_type": "stream",
     "text": [
      "Missing values in Brent Oil Prices:\n",
      "Date     0\n",
      "Price    0\n",
      "dtype: int64 \n",
      "\n",
      "Missing values in Africa Data:\n",
      "ID               0\n",
      "Year             0\n",
      "Country          0\n",
      "Continent        0\n",
      "Population       0\n",
      "GDP (USD)      155\n",
      "dtype: int64 \n",
      "\n",
      "Missing values in Population Data:\n",
      "Country Name    0\n",
      "Year            0\n",
      "Count           0\n",
      "dtype: int64 \n",
      "\n",
      "Data types in Brent Oil Prices:\n",
      "Date      object\n",
      "Price    float64\n",
      "dtype: object \n",
      "\n",
      "Data types in Africa Data:\n",
      "ID               int64\n",
      "Year             int64\n",
      "Country         object\n",
      "Continent       object\n",
      "Population       int64\n",
      "GDP (USD)      float64\n",
      "dtype: object \n",
      "\n",
      "Data types in Population Data:\n",
      "Country Name    object\n",
      "Year             int64\n",
      "Count            int64\n",
      "dtype: object \n",
      "\n"
     ]
    },
    {
     "name": "stderr",
     "output_type": "stream",
     "text": [
      "C:\\Users\\medha\\AppData\\Local\\Temp\\ipykernel_2540\\464919599.py:23: UserWarning: Could not infer format, so each element will be parsed individually, falling back to `dateutil`. To ensure parsing is consistent and as-expected, please specify a format.\n",
      "  data1['Date'] = pd.to_datetime(data1['Date'], errors='coerce')\n"
     ]
    },
    {
     "name": "stdout",
     "output_type": "stream",
     "text": [
      "Updated data types in Brent Oil Prices:\n",
      "Date     datetime64[ns]\n",
      "Price           float64\n",
      "dtype: object \n",
      "\n"
     ]
    }
   ],
   "source": [
    "# Check for missing values\n",
    "print(\"Missing values in Brent Oil Prices:\")\n",
    "print(data1.isnull().sum(), \"\\n\")\n",
    "\n",
    "print(\"Missing values in Africa Data:\")\n",
    "print(data2.isnull().sum(), \"\\n\")\n",
    "\n",
    "print(\"Missing values in Population Data:\")\n",
    "print(data3.isnull().sum(), \"\\n\")\n",
    "\n",
    "# Check data types\n",
    "print(\"Data types in Brent Oil Prices:\")\n",
    "print(data1.dtypes, \"\\n\")\n",
    "\n",
    "print(\"Data types in Africa Data:\")\n",
    "print(data2.dtypes, \"\\n\")\n",
    "\n",
    "print(\"Data types in Population Data:\")\n",
    "print(data3.dtypes, \"\\n\")\n",
    "\n",
    "# Convert date column in data1 (if applicable)\n",
    "if 'Date' in data1.columns:\n",
    "    data1['Date'] = pd.to_datetime(data1['Date'], errors='coerce')\n",
    "\n",
    "# Review the cleaned data types\n",
    "print(\"Updated data types in Brent Oil Prices:\")\n",
    "print(data1.dtypes, \"\\n\")"
   ]
  },
  {
   "cell_type": "code",
   "execution_count": 20,
   "metadata": {},
   "outputs": [
    {
     "name": "stdout",
     "output_type": "stream",
     "text": [
      "Rows with missing GDP values:\n",
      "        ID  Year                                       Country    Continent  \\\n",
      "207    208  2000                                       Mayotte  East Africa   \n",
      "208    209  2001                                       Mayotte  East Africa   \n",
      "209    210  2002                                       Mayotte  East Africa   \n",
      "210    211  2003                                       Mayotte  East Africa   \n",
      "211    212  2004                                       Mayotte  East Africa   \n",
      "...    ...   ...                                           ...          ...   \n",
      "1260  1261  2018  Saint Helena, Ascension and Tristan da Cunha  West Africa   \n",
      "1261  1262  2019  Saint Helena, Ascension and Tristan da Cunha  West Africa   \n",
      "1262  1263  2020  Saint Helena, Ascension and Tristan da Cunha  West Africa   \n",
      "1263  1264  2021  Saint Helena, Ascension and Tristan da Cunha  West Africa   \n",
      "1264  1265  2022  Saint Helena, Ascension and Tristan da Cunha  West Africa   \n",
      "\n",
      "      Population   GDP (USD)  \n",
      "207        147645        NaN  \n",
      "208        153066        NaN  \n",
      "209        158502        NaN  \n",
      "210        163982        NaN  \n",
      "211        169545        NaN  \n",
      "...           ...        ...  \n",
      "1260         6024        NaN  \n",
      "1261         6050        NaN  \n",
      "1262         6066        NaN  \n",
      "1263         6089        NaN  \n",
      "1264         6112        NaN  \n",
      "\n",
      "[155 rows x 6 columns]\n"
     ]
    }
   ],
   "source": [
    "# Display rows with missing GDP values\n",
    "missing_gdp = data2[data2['GDP (USD)'].isnull()]\n",
    "print(\"Rows with missing GDP values:\")\n",
    "print(missing_gdp)"
   ]
  },
  {
   "cell_type": "code",
   "execution_count": 21,
   "metadata": {},
   "outputs": [
    {
     "name": "stdout",
     "output_type": "stream",
     "text": [
      "Missing values in Africa Data after dropping rows:\n",
      "ID             0\n",
      "Year           0\n",
      "Country        0\n",
      "Continent      0\n",
      "Population     0\n",
      "GDP (USD)      0\n",
      "dtype: int64\n"
     ]
    }
   ],
   "source": [
    "# Drop rows with missing GDP values\n",
    "data2_cleaned = data2.dropna(subset=['GDP (USD)'])\n",
    "\n",
    "print(\"Missing values in Africa Data after dropping rows:\")\n",
    "print(data2_cleaned.isnull().sum())"
   ]
  },
  {
   "cell_type": "code",
   "execution_count": 22,
   "metadata": {},
   "outputs": [
    {
     "name": "stdout",
     "output_type": "stream",
     "text": [
      "Merged DataFrame:\n",
      "        Date  Price  Year  ID Country Continent  Population   GDP (USD)  \\\n",
      "0 1987-05-20  18.63  1987 NaN     NaN       NaN          NaN        NaN   \n",
      "1 1987-05-20  18.63  1987 NaN     NaN       NaN          NaN        NaN   \n",
      "2 1987-05-20  18.63  1987 NaN     NaN       NaN          NaN        NaN   \n",
      "3 1987-05-20  18.63  1987 NaN     NaN       NaN          NaN        NaN   \n",
      "4 1987-05-20  18.63  1987 NaN     NaN       NaN          NaN        NaN   \n",
      "\n",
      "  Country Name       Count  \n",
      "0        Aruba     61833.0  \n",
      "1  Afghanistan  11604534.0  \n",
      "2       Angola  10689250.0  \n",
      "3      Albania   3083605.0  \n",
      "4      Andorra     48455.0   \n",
      "\n"
     ]
    }
   ],
   "source": [
    "# Extract the Year from the Date in the Brent Oil Prices DataFrame\n",
    "data1['Year'] = data1['Date'].dt.year\n",
    "\n",
    "# Merge DataFrames on Year\n",
    "merged_df = data1.merge(data2, on='Year', how='left').merge(data3, on='Year', how='left')\n",
    "\n",
    "print(\"Merged DataFrame:\")\n",
    "print(merged_df.head(), \"\\n\")"
   ]
  }
 ],
 "metadata": {
  "kernelspec": {
   "display_name": "myvenv",
   "language": "python",
   "name": "python3"
  },
  "language_info": {
   "codemirror_mode": {
    "name": "ipython",
    "version": 3
   },
   "file_extension": ".py",
   "mimetype": "text/x-python",
   "name": "python",
   "nbconvert_exporter": "python",
   "pygments_lexer": "ipython3",
   "version": "3.12.5"
  }
 },
 "nbformat": 4,
 "nbformat_minor": 2
}
